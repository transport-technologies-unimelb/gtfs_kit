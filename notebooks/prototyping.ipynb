{
 "cells": [
  {
   "cell_type": "code",
   "execution_count": null,
   "metadata": {},
   "outputs": [],
   "source": [
    "import datetime as dt\n",
    "import sys, os\n",
    "import dateutil.relativedelta as rd\n",
    "import json\n",
    "import pathlib as pl\n",
    "from typing import List\n",
    "import warnings\n",
    "\n",
    "import pandas as pd\n",
    "import numpy as np\n",
    "import geopandas as gpd\n",
    "import shapely\n",
    "import shapely.geometry as sg\n",
    "import shapely.ops as so\n",
    "\n",
    "DIR = pl.Path('..')\n",
    "sys.path.append(str(DIR))\n",
    "\n",
    "import gtfs_kit as gk\n",
    "\n",
    "\n",
    "warnings.filterwarnings('ignore')\n",
    "\n",
    "%load_ext autoreload\n",
    "%autoreload 2\n",
    "\n",
    "DATA = DIR / 'data'"
   ]
  },
  {
   "cell_type": "code",
   "execution_count": null,
   "metadata": {},
   "outputs": [],
   "source": [
    "#feed = gk.read_feed(DATA / \"cairns_gtfs.zip\", dist_units='km')\n",
    "path = pl.Path.home() / \"Desktop\"\n",
    "feed = gk.read_feed(pl.Path.home() / \"Desktop\" / \"gtfs_feed_test.zip\", dist_units=\"km\")\n",
    "feed.list_fields()"
   ]
  },
  {
   "cell_type": "code",
   "execution_count": null,
   "metadata": {},
   "outputs": [],
   "source": [
    "feed.calendar"
   ]
  },
  {
   "cell_type": "code",
   "execution_count": null,
   "metadata": {},
   "outputs": [],
   "source": [
    "import functools as ft\n",
    "\n",
    "def compute_trip_activity(feed: \"Feed\", dates: list[str]) -> pd.DataFrame:\n",
    "    \"\"\"\n",
    "    Mark trips as active or inactive on the given dates (YYYYMMDD date strings).\n",
    "    Return a table with the columns\n",
    "\n",
    "    - ``'trip_id'``\n",
    "    - ``dates[0]``: 1 if the trip is active on ``dates[0]``;\n",
    "      0 otherwise\n",
    "    - ``dates[1]``: 1 if the trip is active on ``dates[1]``;\n",
    "      0 otherwise\n",
    "    - etc.\n",
    "    - ``dates[-1]``: 1 if the trip is active on ``dates[-1]``;\n",
    "      0 otherwise\n",
    "\n",
    "    If ``dates`` is ``None`` or the empty list, then return an\n",
    "    empty DataFrame.\n",
    "    \"\"\"\n",
    "    dates = feed.subset_dates(dates)\n",
    "    if not dates:\n",
    "        return pd.DataFrame()\n",
    "\n",
    "    frames = [feed.trips[[\"trip_id\"]]]\n",
    "    for date in dates:\n",
    "        frames.append(\n",
    "            gk.get_trips(feed, date)[[\"trip_id\"]].assign(**{date: 1})\n",
    "        )\n",
    "    print(dates)\n",
    "    f = (\n",
    "        ft.reduce(\n",
    "            lambda left, right: left.merge(right, how=\"outer\"),\n",
    "            frames\n",
    "        )\n",
    "        .fillna({date: 0 for date in dates})\n",
    "    )\n",
    "    # Convert date columns to integers \n",
    "    f[dates] = f[dates].astype(int)\n",
    "    return f\n",
    "\n"
   ]
  },
  {
   "cell_type": "code",
   "execution_count": null,
   "metadata": {},
   "outputs": [],
   "source": [
    "compute_trip_activity(feed, feed.get_first_week())"
   ]
  },
  {
   "cell_type": "code",
   "execution_count": null,
   "metadata": {},
   "outputs": [],
   "source": [
    "feed.compute_trip_activity(feed.get_first_week())"
   ]
  },
  {
   "cell_type": "code",
   "execution_count": null,
   "metadata": {},
   "outputs": [],
   "source": [
    "#path = DATA / 'cairns_gtfs.zip'\n",
    "path = pl.Path.home() / \"Desktop\" / \"gtfs.zip\"\n",
    "feed = gk.read_feed(path, dist_units='km')\n",
    "feed.describe()"
   ]
  },
  {
   "cell_type": "code",
   "execution_count": null,
   "metadata": {},
   "outputs": [],
   "source": [
    "feed.get_shapes(as_gdf=True)"
   ]
  },
  {
   "cell_type": "code",
   "execution_count": null,
   "metadata": {},
   "outputs": [],
   "source": [
    "gk.geometrize_shapes(feed.shapes.iloc[:1])"
   ]
  },
  {
   "cell_type": "code",
   "execution_count": null,
   "metadata": {},
   "outputs": [],
   "source": [
    "ts = feed.compute_trip_stats()\n",
    "display(ts.head().T)\n",
    "ts.to_csv(DATA / \"cairns_trip_stats.csv\", index=False)"
   ]
  },
  {
   "cell_type": "code",
   "execution_count": null,
   "metadata": {},
   "outputs": [],
   "source": [
    "# Maybe a useful function to add\n",
    "def compute_stop_time_stats(feed):\n",
    "    if \"shape_dist_traveled\" in feed.stop_times.columns:\n",
    "        st = feed.stop_times.copy()\n",
    "    else:\n",
    "        st = feed.append_dist_to_stop_times().stop_times\n",
    "    f = st.sort_values([\"trip_id\", \"stop_sequence\"])\n",
    "\n",
    "    # Choose strategy for calculating duration to next stop\n",
    "    if (\n",
    "        f[\"arrival_time\"].count() > 0.5 * f[\"arrival_time\"].shape[0] \n",
    "        and f[\"departure_time\"].count() > 0.5 * f[\"departure_time\"].shape[0]\n",
    "    ):\n",
    "        # Use stop departure to next stop arrival as duration\n",
    "        f[\"atime\"] = f[\"arrival_time\"].map(gk.timestr_to_seconds)\n",
    "        f[\"dtime\"] = f[\"departure_time\"].map(gk.timestr_to_seconds)\n",
    "        f[\"duration_to_next_stop\"] = f.groupby(\"trip_id\")[\"atime\"].shift(-1) - f[\"dtime\"] \n",
    "    elif f[\"arrival_time\"].count() > 0.5 * f[\"arrival_time\"].shape[0]:\n",
    "        # Use stop arrival to next stop arrival as duration\n",
    "        f[\"atime\"] = f[\"arrival_time\"].apply(gk.timestr_to_seconds)\n",
    "        f[\"duration_to_next_stop\"] = f.groupby(\"trip_id\")[\"atime\"].diff().shift(-1) \n",
    "    else:\n",
    "        # Nothing satisfactory, so just use departure times and get many NAs\n",
    "        f[\"dtime\"] = f[\"departure_time\"].map(gk.timestr_to_seconds)\n",
    "        f[\"duration_to_next_stop\"] = f.groupby(\"trip_id\")[\"dtime\"].diff().shift(-1) \n",
    "\n",
    "    # convert to km or mi\n",
    "    if gk.is_metric(feed.dist_units):\n",
    "        g = gk.get_convert_dist(feed.dist_units, \"km\")\n",
    "    else:\n",
    "        g = gk.get_convert_dist(feed.dist_units, \"mi\")\n",
    "\n",
    "    f[\"distance_to_next_stop\"] = f.groupby('trip_id')['shape_dist_traveled'].diff().shift(-1)  # feed.dist_units\n",
    "    f[\"speed_to_next_stop\"] = f[\"distance_to_next_stop\"].map(g) / (f[\"duration_to_next_stop\"] / 3600) # km/h or mi/h\n",
    "    return f.drop([\"atime\", \"dtime\"], axis=1)\n",
    "\n",
    "compute_stop_time_stats(feed).head(38)\n",
    "    \n"
   ]
  },
  {
   "cell_type": "code",
   "execution_count": null,
   "metadata": {},
   "outputs": [],
   "source": [
    "g = feed.geometrize_stops()\n",
    "p = g[\"geometry\"].iat[0]\n",
    "type(p)\n",
    "q = sg.MultiPoint([p, p])\n",
    "list(q.geoms)"
   ]
  },
  {
   "cell_type": "code",
   "execution_count": null,
   "metadata": {},
   "outputs": [],
   "source": [
    "feed.map_trips(trip_ids[:1], include_stops=True, include_arrows=True)"
   ]
  },
  {
   "cell_type": "code",
   "execution_count": null,
   "metadata": {},
   "outputs": [],
   "source": [
    "dates = feed.get_first_week()[6:]\n",
    "activity = feed.compute_trip_activity(dates)\n",
    "display(activity)\n",
    "\n",
    "trip_ids = activity.loc[\n",
    "    lambda x: x.filter(dates).sum(axis=1) > 0,\n",
    "    \"trip_id\",\n",
    "]\n",
    "trip_ids"
   ]
  },
  {
   "cell_type": "code",
   "execution_count": null,
   "metadata": {},
   "outputs": [],
   "source": [
    "feed.trips"
   ]
  },
  {
   "cell_type": "code",
   "execution_count": null,
   "metadata": {},
   "outputs": [],
   "source": [
    "dates = feed.get_first_week()[:1] + [\"20010101\"]\n",
    "\n",
    "path = DATA_DIR / \"cairns_screen_lines.geojson\"\n",
    "screen_lines = gpd.read_file(path)\n",
    "f = feed.compute_screen_line_counts(screen_lines, dates)\n",
    "f"
   ]
  },
  {
   "cell_type": "code",
   "execution_count": null,
   "metadata": {},
   "outputs": [],
   "source": [
    "path = DATA_DIR/'cairns_gtfs.zip'\n",
    "gk.list_feed(path)\n",
    "\n"
   ]
  },
  {
   "cell_type": "code",
   "execution_count": null,
   "metadata": {},
   "outputs": [],
   "source": [
    "feed = (\n",
    "    gk.read_feed(path, dist_units='km')\n",
    "    .append_dist_to_stop_times()\n",
    ")\n",
    "feed.describe()"
   ]
  },
  {
   "cell_type": "code",
   "execution_count": null,
   "metadata": {},
   "outputs": [],
   "source": [
    "shapes = feed.geometrize_shapes(use_utm=True)\n",
    "shapes.crs\n",
    "screen_lines = screen_lines.to_crs(shapes.crs)\n",
    "screen_lines"
   ]
  },
  {
   "cell_type": "code",
   "execution_count": null,
   "metadata": {},
   "outputs": [],
   "source": [
    "url = \"http://transitfeeds.com/p/10-15-transit/936/latest/download\"\n",
    "gk.read_feed(url, dist_units=\"km\").describe()"
   ]
  },
  {
   "cell_type": "code",
   "execution_count": null,
   "metadata": {},
   "outputs": [],
   "source": [
    "(\n",
    "    g1.crossing_time.equals(g2.crossing_time),\n",
    "    g1.crossing_direction.equals(g2.orientation)\n",
    ")"
   ]
  },
  {
   "cell_type": "code",
   "execution_count": null,
   "metadata": {},
   "outputs": [],
   "source": [
    "feed.map_routes(feed.routes.route_id.iloc[:4], include_stops=False)\n"
   ]
  },
  {
   "cell_type": "code",
   "execution_count": null,
   "metadata": {},
   "outputs": [],
   "source": []
  }
 ],
 "metadata": {
  "kernelspec": {
   "display_name": "Python 3 (ipykernel)",
   "language": "python",
   "name": "python3"
  },
  "language_info": {
   "codemirror_mode": {
    "name": "ipython",
    "version": 3
   },
   "file_extension": ".py",
   "mimetype": "text/x-python",
   "name": "python",
   "nbconvert_exporter": "python",
   "pygments_lexer": "ipython3",
   "version": "3.12.8"
  }
 },
 "nbformat": 4,
 "nbformat_minor": 4
}
